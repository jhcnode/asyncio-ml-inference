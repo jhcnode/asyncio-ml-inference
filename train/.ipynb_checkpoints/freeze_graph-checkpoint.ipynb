{
 "cells": [
  {
   "cell_type": "code",
   "execution_count": 6,
   "metadata": {},
   "outputs": [
    {
     "ename": "OSError",
     "evalue": "Input graph file 'models1/graph.pb' does not exist!",
     "output_type": "error",
     "traceback": [
      "\u001b[1;31m---------------------------------------------------------------------------\u001b[0m",
      "\u001b[1;31mOSError\u001b[0m                                   Traceback (most recent call last)",
      "\u001b[1;32m<ipython-input-6-336a30ecde15>\u001b[0m in \u001b[0;36m<module>\u001b[1;34m\u001b[0m\n\u001b[0;32m      9\u001b[0m               \u001b[0moutput_graph\u001b[0m \u001b[1;33m=\u001b[0m \u001b[0mmodel_path\u001b[0m \u001b[1;33m+\u001b[0m\u001b[1;34m'/freeze_graph.bytes'\u001b[0m \u001b[1;33m,\u001b[0m\u001b[1;33m\u001b[0m\u001b[1;33m\u001b[0m\u001b[0m\n\u001b[0;32m     10\u001b[0m               \u001b[0mclear_devices\u001b[0m \u001b[1;33m=\u001b[0m \u001b[1;32mTrue\u001b[0m\u001b[1;33m,\u001b[0m \u001b[0minitializer_nodes\u001b[0m \u001b[1;33m=\u001b[0m \u001b[1;34m\"\"\u001b[0m\u001b[1;33m,\u001b[0m\u001b[0minput_saver\u001b[0m \u001b[1;33m=\u001b[0m \u001b[1;34m\"\"\u001b[0m\u001b[1;33m,\u001b[0m\u001b[1;33m\u001b[0m\u001b[1;33m\u001b[0m\u001b[0m\n\u001b[1;32m---> 11\u001b[1;33m               restore_op_name = \"save/restore_all\", filename_tensor_name = \"save/Const:0\")\n\u001b[0m\u001b[0;32m     12\u001b[0m \u001b[1;33m\u001b[0m\u001b[0m\n\u001b[0;32m     13\u001b[0m \u001b[0mprint\u001b[0m\u001b[1;33m(\u001b[0m\u001b[1;34m\"Finish\"\u001b[0m\u001b[1;33m)\u001b[0m\u001b[1;33m\u001b[0m\u001b[1;33m\u001b[0m\u001b[0m\n",
      "\u001b[1;32mc:\\users\\virnect\\appdata\\local\\programs\\python\\python37\\lib\\site-packages\\tensorflow\\python\\tools\\freeze_graph.py\u001b[0m in \u001b[0;36mfreeze_graph\u001b[1;34m(input_graph, input_saver, input_binary, input_checkpoint, output_node_names, restore_op_name, filename_tensor_name, output_graph, clear_devices, initializer_nodes, variable_names_whitelist, variable_names_denylist, input_meta_graph, input_saved_model_dir, saved_model_tags, checkpoint_version)\u001b[0m\n\u001b[0;32m    336\u001b[0m         input_saved_model_dir, saved_model_tags).graph_def\n\u001b[0;32m    337\u001b[0m   \u001b[1;32melif\u001b[0m \u001b[0minput_graph\u001b[0m\u001b[1;33m:\u001b[0m\u001b[1;33m\u001b[0m\u001b[1;33m\u001b[0m\u001b[0m\n\u001b[1;32m--> 338\u001b[1;33m     \u001b[0minput_graph_def\u001b[0m \u001b[1;33m=\u001b[0m \u001b[0m_parse_input_graph_proto\u001b[0m\u001b[1;33m(\u001b[0m\u001b[0minput_graph\u001b[0m\u001b[1;33m,\u001b[0m \u001b[0minput_binary\u001b[0m\u001b[1;33m)\u001b[0m\u001b[1;33m\u001b[0m\u001b[1;33m\u001b[0m\u001b[0m\n\u001b[0m\u001b[0;32m    339\u001b[0m   \u001b[0minput_meta_graph_def\u001b[0m \u001b[1;33m=\u001b[0m \u001b[1;32mNone\u001b[0m\u001b[1;33m\u001b[0m\u001b[1;33m\u001b[0m\u001b[0m\n\u001b[0;32m    340\u001b[0m   \u001b[1;32mif\u001b[0m \u001b[0minput_meta_graph\u001b[0m\u001b[1;33m:\u001b[0m\u001b[1;33m\u001b[0m\u001b[1;33m\u001b[0m\u001b[0m\n",
      "\u001b[1;32mc:\\users\\virnect\\appdata\\local\\programs\\python\\python37\\lib\\site-packages\\tensorflow\\python\\tools\\freeze_graph.py\u001b[0m in \u001b[0;36m_parse_input_graph_proto\u001b[1;34m(input_graph, input_binary)\u001b[0m\n\u001b[0;32m    244\u001b[0m   \u001b[1;34m\"\"\"Parses input tensorflow graph into GraphDef proto.\"\"\"\u001b[0m\u001b[1;33m\u001b[0m\u001b[1;33m\u001b[0m\u001b[0m\n\u001b[0;32m    245\u001b[0m   \u001b[1;32mif\u001b[0m \u001b[1;32mnot\u001b[0m \u001b[0mgfile\u001b[0m\u001b[1;33m.\u001b[0m\u001b[0mExists\u001b[0m\u001b[1;33m(\u001b[0m\u001b[0minput_graph\u001b[0m\u001b[1;33m)\u001b[0m\u001b[1;33m:\u001b[0m\u001b[1;33m\u001b[0m\u001b[1;33m\u001b[0m\u001b[0m\n\u001b[1;32m--> 246\u001b[1;33m     \u001b[1;32mraise\u001b[0m \u001b[0mIOError\u001b[0m\u001b[1;33m(\u001b[0m\u001b[1;34m\"Input graph file '\"\u001b[0m \u001b[1;33m+\u001b[0m \u001b[0minput_graph\u001b[0m \u001b[1;33m+\u001b[0m \u001b[1;34m\"' does not exist!\"\u001b[0m\u001b[1;33m)\u001b[0m\u001b[1;33m\u001b[0m\u001b[1;33m\u001b[0m\u001b[0m\n\u001b[0m\u001b[0;32m    247\u001b[0m   \u001b[0minput_graph_def\u001b[0m \u001b[1;33m=\u001b[0m \u001b[0mgraph_pb2\u001b[0m\u001b[1;33m.\u001b[0m\u001b[0mGraphDef\u001b[0m\u001b[1;33m(\u001b[0m\u001b[1;33m)\u001b[0m\u001b[1;33m\u001b[0m\u001b[1;33m\u001b[0m\u001b[0m\n\u001b[0;32m    248\u001b[0m   \u001b[0mmode\u001b[0m \u001b[1;33m=\u001b[0m \u001b[1;34m\"rb\"\u001b[0m \u001b[1;32mif\u001b[0m \u001b[0minput_binary\u001b[0m \u001b[1;32melse\u001b[0m \u001b[1;34m\"r\"\u001b[0m\u001b[1;33m\u001b[0m\u001b[1;33m\u001b[0m\u001b[0m\n",
      "\u001b[1;31mOSError\u001b[0m: Input graph file 'models1/graph.pb' does not exist!"
     ]
    }
   ],
   "source": [
    "from tensorflow.python.tools import freeze_graph\n",
    "\n",
    "model_path=\"model\"\n",
    "\n",
    "freeze_graph.freeze_graph(input_graph = model_path +'/graph.pb',\n",
    "              input_binary = True,\n",
    "              input_checkpoint = model_path+\"/w-59\",\n",
    "              output_node_names = \"prob_y\",\n",
    "              output_graph = model_path +'/freeze_graph.bytes' ,\n",
    "              clear_devices = True, initializer_nodes = \"\",input_saver = \"\",\n",
    "              restore_op_name = \"save/restore_all\", filename_tensor_name = \"save/Const:0\")\n",
    "\n",
    "print(\"Finish\")"
   ]
  },
  {
   "cell_type": "code",
   "execution_count": null,
   "metadata": {},
   "outputs": [],
   "source": []
  },
  {
   "cell_type": "code",
   "execution_count": null,
   "metadata": {},
   "outputs": [],
   "source": []
  }
 ],
 "metadata": {
  "anaconda-cloud": {},
  "kernelspec": {
   "display_name": "Python 3",
   "language": "python",
   "name": "python3"
  },
  "language_info": {
   "codemirror_mode": {
    "name": "ipython",
    "version": 3
   },
   "file_extension": ".py",
   "mimetype": "text/x-python",
   "name": "python",
   "nbconvert_exporter": "python",
   "pygments_lexer": "ipython3",
   "version": "3.7.6"
  }
 },
 "nbformat": 4,
 "nbformat_minor": 1
}
